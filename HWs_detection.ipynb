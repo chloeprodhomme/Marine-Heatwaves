{
 "cells": [
  {
   "cell_type": "code",
   "execution_count": 1,
   "metadata": {},
   "outputs": [],
   "source": [
    "import matplotlib\n",
    "#matplotlib.use('Agg')\n",
    "import os\n",
    "import datetime\n",
    "import time\n",
    "import copy\n",
    "import shutil\n",
    "import sys\n",
    "sys.path.append('/cnrm/pastel/USERS/lecestres/analyse/')\n",
    "from function_read import *\n",
    "from HW_detection import *\n",
    "import numpy as np\n",
    "from mpl_toolkits.axes_grid1 import make_axes_locatable\n",
    "import matplotlib.pyplot as plt\n",
    "from mpl_toolkits.basemap import Basemap, shiftgrid\n",
    "\n",
    "import calendar\n",
    "import locale\n",
    "locale.setlocale( locale.LC_ALL , 'en_US' )\n",
    "from netCDF4 import num2date, date2num \n",
    "import netCDF4\n",
    "from math import sin, cos, sqrt, atan2, radians\n",
    "from sklearn.neighbors import DistanceMetric\n",
    "from math import radians\n",
    "\n",
    "from joblib import Parallel, delayed\n",
    "import joblib"
   ]
  },
  {
   "cell_type": "code",
   "execution_count": 2,
   "metadata": {},
   "outputs": [],
   "source": [
    "### EXPERIENCE NAME\n",
    "expname = \"ocean_reanalysis_GREP\"\n",
    "#expname = \"sst_retroprevision_sys7\"\n",
    "\n",
    "### PERCENTILE THRESHOLD\n",
    "percent_thresh = 95\n",
    "#percent_thresh = 90\n",
    "\n",
    "### MINIMAL DURATION OF A HW\n",
    "duration_min = 5\n",
    "#duration_min = 3\n",
    "\n",
    "### REGION OF EXPERIENCE\n",
    "\n",
    "#reg_name = 'north_pacific'\n",
    "#reg_name = 'north_atlantic'\n",
    "#reg_name = 'indian_ocean'\n",
    "#reg_name = 'austral_ocean'\n",
    "#reg_name = 'tropical_atlantic'\n",
    "#reg_name = 'tropical_pacific'\n",
    "#reg_name = 'mediterranee'\n",
    "reg_name = 'global'\n",
    "\n",
    "if reg_name == 'north_pacific':\n",
    "    lats_bnds = np.array([30,65])\n",
    "    lons_bnds = np.array([120, -120])\n",
    "if reg_name == 'north_atlantic':\n",
    "    lats_bnds = np.array([30,65])\n",
    "    lons_bnds = np.array([-80, 0])\n",
    "if reg_name == 'indian_ocean':\n",
    "    lats_bnds = np.array([-30,30])\n",
    "    lons_bnds = np.array([45, 110])\n",
    "if reg_name == 'austral_ocean':\n",
    "    lats_bnds = np.array([-90,-30])\n",
    "    lons_bnds = np.array([-180, 180])\n",
    "if reg_name == 'tropical_atlantic':\n",
    "    lats_bnds = np.array([-30,30])\n",
    "    lons_bnds = np.array([-70, 20])\n",
    "if reg_name == 'tropical_pacific':\n",
    "    lats_bnds = np.array([-30,30])\n",
    "    lons_bnds = np.array([120, -70])\n",
    "if reg_name == 'mediterranee':\n",
    "    lats_bnds = np.array([30,50])\n",
    "    lons_bnds = np.array([-5, 40])\n",
    "if reg_name == 'global':\n",
    "    lats_bnds = np.array([-90,90])\n",
    "    lons_bnds = np.array([-180,180])\n",
    "    \n",
    "nlat = lats_bnds[1]-lats_bnds[0]\n",
    "if lons_bnds[1]<lons_bnds[0]:\n",
    "    nlon = lons_bnds[1]%360-lons_bnds[0]\n",
    "else:\n",
    "    nlon = lons_bnds[1]-lons_bnds[0]\n",
    "\n",
    "### YEARS\n",
    "if expname == 'ocean_reanalysis_GREP':\n",
    "    end_year=2016\n",
    "    start_year=1993\n",
    "elif expname == 'sst_retroprevision_sys7':\n",
    "    end_year=2016\n",
    "    start_year=1993\n",
    "nyear=end_year-start_year+1\n",
    "\n",
    "### SEASON\n",
    "#season = \"NDJFMAM\"\n",
    "season = \"DJF\"\n",
    "if season == 'NDJFMAM':\n",
    "    nday = 211\n",
    "    season_start_day = [11,1] #1stNov\n",
    "    season_end_day = [5,31] #31stMay\n",
    "    first_day = 0\n",
    "elif season == 'DJF':\n",
    "    nday = 90\n",
    "    season_start_day = [12,1] #1stDec\n",
    "    season_end_day = [3,1] #28thFeb\n",
    "    first_day = 30\n",
    "ndayseas = nday//duration_min +1\n",
    "\n",
    "if expname == \"ocean_reanalysis_GREP\":    \n",
    "    ### NUMBER OF MEMBS\n",
    "    first_memb=0\n",
    "    last_memb=1\n",
    "    nmemb = last_memb-first_memb\n",
    "    \n",
    "    ### CROSS VALIDATION\n",
    "    cv = True\n",
    "    if cv:\n",
    "        cv_str = \"CV\"\n",
    "    else:\n",
    "        cv_str = 'notCV'\n",
    "        \n",
    "elif expname == \"sst_retroprevision_sys7\":    \n",
    "    ### NUMBER OF MEMBS\n",
    "    first_memb=0\n",
    "    last_memb=25\n",
    "    nmemb = last_memb-first_memb    ### NUMBER OF MEMBS\n",
    "    \n",
    "    ### CROSS VALIDATION\n",
    "    cv = True\n",
    "    if cv:\n",
    "        cv_str = \"CV\"\n",
    "    else:\n",
    "        cv_str = 'notCV'\n",
    "\n",
    "### PARAMETERS\n",
    "# Parameters will be initialized later in the script\n",
    "#parameters_str = reg_name + \"_\" + season + \"_\" + cv_str + '_percent%i'%(percent_thresh) + '_daymin%i'%(duration_min) +  \"ref%i-%i\"%(start_year, end_year) + '_' + memb_str\n",
    "\n",
    "### NAME OF THE VARIABLES IN THE NC FILES\n",
    "#varname = 'HWMI_' + parameters_str\n",
    "#varname = 'subHW_' + parameters_str"
   ]
  },
  {
   "cell_type": "code",
   "execution_count": 3,
   "metadata": {},
   "outputs": [],
   "source": [
    "def HWs_detection_function(j, jmemb):\n",
    "    memb_str = 'memb'+str(jmemb)\n",
    "    parameters_str = reg_name+\"_\"+season+\"_\"+cv_str+'_percent%i'%(percent_thresh)+'_daymin%i'%(duration_min)+\"_ref%i-%i_\"%(start_year, end_year)+memb_str\n",
    "    varname = 'subHW_'+parameters_str\n",
    "    pathHWMI = '/cnrm/pastel/USERS/lecestres/NO_SAVE/data/'+expname+'/'+memb_str+'/'+season+'/'+varname+'/'\n",
    "    files = glob(pathHWMI + '*.nc')\n",
    "    files.sort()\n",
    "    allsubHWslst = []\n",
    "    for file in files[:]:\n",
    "        varf=netCDF4.Dataset(file)\n",
    "        varf.variables[varname]\n",
    "        vararray, lats_reg, lons_reg = extract_array(varf, varname, ndayseas, np.array(lons_bnds), np.array(lats_bnds),  start_time = 0, level=0)\n",
    "        subHWs_iyeararray = vararray[:, np.newaxis, :, :]\n",
    "        maskobs = subHWs_iyeararray.mask\n",
    "        allsubHWslst.append(subHWs_iyeararray)\n",
    "    allsubHWs_array = np.ma.array(allsubHWslst)\n",
    "    #print('maskobs : ', maskobs)\n",
    "    args = (expname, reg_name, memb_str, season, parameters_str, start_year, lats_reg, lons_reg)\n",
    "    start_time = time.time()\n",
    "    print(allsubHWs_array.shape)\n",
    "    calc_HW_MY(allsubHWs_array, maskobs, lats_reg, lons_reg, args, allowdist=1)\n",
    "    print('Total time for detection : ', time.time() - start_time)"
   ]
  },
  {
   "cell_type": "code",
   "execution_count": 4,
   "metadata": {},
   "outputs": [
    {
     "name": "stdout",
     "output_type": "stream",
     "text": [
      "(2, 19, 1, 180, 360)\n",
      "(2, 19, 1, 180, 360)\n",
      "(2, 19, 1, 180, 360)\n"
     ]
    },
    {
     "name": "stderr",
     "output_type": "stream",
     "text": [
      "[Parallel(n_jobs=2)]: Using backend ThreadingBackend with 2 concurrent workers.\n"
     ]
    },
    {
     "name": "stdout",
     "output_type": "stream",
     "text": [
      "(2, 19, 1, 180, 360)\n"
     ]
    },
    {
     "name": "stderr",
     "output_type": "stream",
     "text": [
      "[Parallel(n_jobs=2)]: Using backend ThreadingBackend with 2 concurrent workers.\n"
     ]
    },
    {
     "name": "stdout",
     "output_type": "stream",
     "text": [
      "(2, 19, 1, 180, 360)\n"
     ]
    },
    {
     "name": "stderr",
     "output_type": "stream",
     "text": [
      "[Parallel(n_jobs=2)]: Using backend ThreadingBackend with 2 concurrent workers.\n",
      "[Parallel(n_jobs=2)]: Using backend ThreadingBackend with 2 concurrent workers.\n"
     ]
    },
    {
     "name": "stdout",
     "output_type": "stream",
     "text": [
      "thread iyear :  0  started\n",
      "thread iyear :  1  started\n",
      "thread iyear :  0  started\n",
      "(2, 19, 1, 180, 360)\n",
      "(2, 19, 1, 180, 360)\n"
     ]
    },
    {
     "name": "stderr",
     "output_type": "stream",
     "text": [
      "[Parallel(n_jobs=2)]: Using backend ThreadingBackend with 2 concurrent workers.\n",
      "[Parallel(n_jobs=2)]: Using backend ThreadingBackend with 2 concurrent workers.\n"
     ]
    },
    {
     "name": "stdout",
     "output_type": "stream",
     "text": [
      "(2, 19, 1, 180, 360)\n"
     ]
    },
    {
     "name": "stderr",
     "output_type": "stream",
     "text": [
      "[Parallel(n_jobs=2)]: Using backend ThreadingBackend with 2 concurrent workers.\n"
     ]
    },
    {
     "name": "stdout",
     "output_type": "stream",
     "text": [
      "thread iyear :  0  started\n"
     ]
    },
    {
     "name": "stderr",
     "output_type": "stream",
     "text": [
      "[Parallel(n_jobs=2)]: Using backend ThreadingBackend with 2 concurrent workers.\n"
     ]
    },
    {
     "name": "stdout",
     "output_type": "stream",
     "text": [
      "thread iyear :  1  started\n"
     ]
    },
    {
     "name": "stderr",
     "output_type": "stream",
     "text": [
      "[Parallel(n_jobs=12)]: Using backend MultiprocessingBackend with 12 concurrent workers.\n"
     ]
    },
    {
     "name": "stdout",
     "output_type": "stream",
     "text": [
      "(2, 19, 1, 180, 360)\n",
      "thread iyear :  1  started\n"
     ]
    },
    {
     "name": "stderr",
     "output_type": "stream",
     "text": [
      "[Parallel(n_jobs=2)]: Using backend ThreadingBackend with 2 concurrent workers.\n"
     ]
    },
    {
     "name": "stdout",
     "output_type": "stream",
     "text": [
      "thread iyear :  0  started\n",
      "thread iyear :  1  started\n",
      "thread iyear :  0  started\n",
      "thread iyear :  0  started\n",
      "thread iyear :  1  started\n",
      "(2, 19, 1, 180, 360)\n",
      "(2, 19, 1, 180, 360)\n",
      "(2, 19, 1, 180, 360)\n"
     ]
    },
    {
     "name": "stderr",
     "output_type": "stream",
     "text": [
      "[Parallel(n_jobs=2)]: Using backend ThreadingBackend with 2 concurrent workers.\n",
      "[Parallel(n_jobs=2)]: Using backend ThreadingBackend with 2 concurrent workers.\n",
      "[Parallel(n_jobs=2)]: Using backend ThreadingBackend with 2 concurrent workers.\n"
     ]
    },
    {
     "name": "stdout",
     "output_type": "stream",
     "text": [
      "thread iyear :  1  started\n",
      "thread iyear :  0  started\n",
      "thread iyear :  1  started\n",
      "thread iyear :  0  started\n",
      "thread iyear :  1  started\n",
      "thread iyear :  0  started\n",
      "thread iyear :  0  started\n",
      "thread iyear :  1  started\n",
      "thread iyear :  1  started\n",
      "thread iyear :  1  started\n",
      "thread iyear :  1  started\n",
      "thread iyear :  0  started\n",
      "thread iyear :  0  started\n",
      "/cnrm/pastel/USERS/lecestres/NO_SAVE/data/ocean_reanalysis_GREP/memb0/DJF/Ampli_Fields_global_DJF_CV_percent95_daymin5_ref1993-2016_memb0/Ampli_Fields_global_DJF_CV_percent95_daymin5_ref1993-2016_memb0_1993_1994.nc\n",
      "thread iyear :  0  done\n"
     ]
    },
    {
     "name": "stderr",
     "output_type": "stream",
     "text": [
      "[Parallel(n_jobs=2)]: Done   1 tasks      | elapsed:  4.8min\n"
     ]
    },
    {
     "name": "stdout",
     "output_type": "stream",
     "text": [
      "/cnrm/pastel/USERS/lecestres/NO_SAVE/data/ocean_reanalysis_GREP/memb0/DJF/Ampli_Fields_global_DJF_CV_percent95_daymin5_ref1993-2016_memb0/Ampli_Fields_global_DJF_CV_percent95_daymin5_ref1993-2016_memb0_1994_1995.nc\n",
      "thread iyear :  1  done\n"
     ]
    },
    {
     "name": "stderr",
     "output_type": "stream",
     "text": [
      "[Parallel(n_jobs=2)]: Done   2 out of   2 | elapsed:  5.2min remaining:    0.0s\n",
      "[Parallel(n_jobs=2)]: Done   2 out of   2 | elapsed:  5.2min finished\n",
      "[Parallel(n_jobs=12)]: Done   1 tasks      | elapsed:  5.2min\n"
     ]
    },
    {
     "name": "stdout",
     "output_type": "stream",
     "text": [
      "/cnrm/pastel/USERS/lecestres/NO_SAVE/data/ocean_reanalysis_GREP/memb0/DJF/Ampli_Fields_global_DJF_CV_percent95_daymin5_ref1993-2016_memb0/Ampli_Fields_global_DJF_CV_percent95_daymin5_ref1993-2016_memb0_1999_2000.nc\n",
      "thread iyear :  0  done\n"
     ]
    },
    {
     "name": "stderr",
     "output_type": "stream",
     "text": [
      "[Parallel(n_jobs=2)]: Done   1 tasks      | elapsed:  9.7min\n"
     ]
    },
    {
     "name": "stdout",
     "output_type": "stream",
     "text": [
      "/cnrm/pastel/USERS/lecestres/NO_SAVE/data/ocean_reanalysis_GREP/memb0/DJF/Ampli_Fields_global_DJF_CV_percent95_daymin5_ref1993-2016_memb0/Ampli_Fields_global_DJF_CV_percent95_daymin5_ref1993-2016_memb0_2000_2001.nc\n",
      "thread iyear :  1  done\n"
     ]
    },
    {
     "name": "stderr",
     "output_type": "stream",
     "text": [
      "[Parallel(n_jobs=2)]: Done   2 out of   2 | elapsed: 10.3min remaining:    0.0s\n",
      "[Parallel(n_jobs=2)]: Done   2 out of   2 | elapsed: 10.3min finished\n",
      "[Parallel(n_jobs=12)]: Done   2 out of  12 | elapsed: 10.3min remaining: 51.6min\n"
     ]
    },
    {
     "name": "stdout",
     "output_type": "stream",
     "text": [
      "/cnrm/pastel/USERS/lecestres/NO_SAVE/data/ocean_reanalysis_GREP/memb0/DJF/Ampli_Fields_global_DJF_CV_percent95_daymin5_ref1993-2016_memb0/Ampli_Fields_global_DJF_CV_percent95_daymin5_ref1993-2016_memb0_1995_1996.nc\n",
      "thread iyear :  0  done\n"
     ]
    },
    {
     "name": "stderr",
     "output_type": "stream",
     "text": [
      "[Parallel(n_jobs=2)]: Done   1 tasks      | elapsed: 11.9min\n"
     ]
    },
    {
     "name": "stdout",
     "output_type": "stream",
     "text": [
      "/cnrm/pastel/USERS/lecestres/NO_SAVE/data/ocean_reanalysis_GREP/memb0/DJF/Ampli_Fields_global_DJF_CV_percent95_daymin5_ref1993-2016_memb0/Ampli_Fields_global_DJF_CV_percent95_daymin5_ref1993-2016_memb0_1996_1997.nc\n",
      "thread iyear :  1  done\n"
     ]
    },
    {
     "name": "stderr",
     "output_type": "stream",
     "text": [
      "[Parallel(n_jobs=2)]: Done   2 out of   2 | elapsed: 12.4min remaining:    0.0s\n",
      "[Parallel(n_jobs=2)]: Done   2 out of   2 | elapsed: 12.4min finished\n",
      "[Parallel(n_jobs=12)]: Done   3 out of  12 | elapsed: 12.4min remaining: 37.1min\n"
     ]
    },
    {
     "name": "stdout",
     "output_type": "stream",
     "text": [
      "/cnrm/pastel/USERS/lecestres/NO_SAVE/data/ocean_reanalysis_GREP/memb0/DJF/Ampli_Fields_global_DJF_CV_percent95_daymin5_ref1993-2016_memb0/Ampli_Fields_global_DJF_CV_percent95_daymin5_ref1993-2016_memb0_2002_2003.nc\n",
      "thread iyear :  1  done\n"
     ]
    },
    {
     "name": "stderr",
     "output_type": "stream",
     "text": [
      "[Parallel(n_jobs=2)]: Done   1 tasks      | elapsed: 19.3min\n"
     ]
    },
    {
     "name": "stdout",
     "output_type": "stream",
     "text": [
      "/cnrm/pastel/USERS/lecestres/NO_SAVE/data/ocean_reanalysis_GREP/memb0/DJF/Ampli_Fields_global_DJF_CV_percent95_daymin5_ref1993-2016_memb0/Ampli_Fields_global_DJF_CV_percent95_daymin5_ref1993-2016_memb0_1998_1999.nc\n",
      "thread iyear :  1  done\n"
     ]
    },
    {
     "name": "stderr",
     "output_type": "stream",
     "text": [
      "[Parallel(n_jobs=2)]: Done   1 tasks      | elapsed: 19.6min\n"
     ]
    },
    {
     "name": "stdout",
     "output_type": "stream",
     "text": [
      "/cnrm/pastel/USERS/lecestres/NO_SAVE/data/ocean_reanalysis_GREP/memb0/DJF/Ampli_Fields_global_DJF_CV_percent95_daymin5_ref1993-2016_memb0/Ampli_Fields_global_DJF_CV_percent95_daymin5_ref1993-2016_memb0_2001_2002.nc\n",
      "thread iyear :  0  done\n"
     ]
    },
    {
     "name": "stderr",
     "output_type": "stream",
     "text": [
      "[Parallel(n_jobs=2)]: Done   2 out of   2 | elapsed: 19.6min remaining:    0.0s\n",
      "[Parallel(n_jobs=2)]: Done   2 out of   2 | elapsed: 19.6min finished\n",
      "[Parallel(n_jobs=12)]: Done   4 out of  12 | elapsed: 19.6min remaining: 39.3min\n"
     ]
    },
    {
     "name": "stdout",
     "output_type": "stream",
     "text": [
      "/cnrm/pastel/USERS/lecestres/NO_SAVE/data/ocean_reanalysis_GREP/memb0/DJF/Ampli_Fields_global_DJF_CV_percent95_daymin5_ref1993-2016_memb0/Ampli_Fields_global_DJF_CV_percent95_daymin5_ref1993-2016_memb0_2003_2004.nc\n",
      "thread iyear :  0  done\n"
     ]
    },
    {
     "name": "stderr",
     "output_type": "stream",
     "text": [
      "[Parallel(n_jobs=2)]: Done   1 tasks      | elapsed: 20.3min\n"
     ]
    },
    {
     "name": "stdout",
     "output_type": "stream",
     "text": [
      "/cnrm/pastel/USERS/lecestres/NO_SAVE/data/ocean_reanalysis_GREP/memb0/DJF/Ampli_Fields_global_DJF_CV_percent95_daymin5_ref1993-2016_memb0/Ampli_Fields_global_DJF_CV_percent95_daymin5_ref1993-2016_memb0_2004_2005.nc\n",
      "thread iyear :  1  done\n"
     ]
    },
    {
     "name": "stderr",
     "output_type": "stream",
     "text": [
      "[Parallel(n_jobs=2)]: Done   2 out of   2 | elapsed: 20.9min remaining:    0.0s\n",
      "[Parallel(n_jobs=2)]: Done   2 out of   2 | elapsed: 20.9min finished\n",
      "[Parallel(n_jobs=12)]: Done   5 out of  12 | elapsed: 20.9min remaining: 29.3min\n"
     ]
    },
    {
     "name": "stdout",
     "output_type": "stream",
     "text": [
      "/cnrm/pastel/USERS/lecestres/NO_SAVE/data/ocean_reanalysis_GREP/memb0/DJF/Ampli_Fields_global_DJF_CV_percent95_daymin5_ref1993-2016_memb0/Ampli_Fields_global_DJF_CV_percent95_daymin5_ref1993-2016_memb0_2011_2012.nc\n",
      "thread iyear :  0  done\n"
     ]
    },
    {
     "name": "stderr",
     "output_type": "stream",
     "text": [
      "[Parallel(n_jobs=2)]: Done   1 tasks      | elapsed: 23.3min\n"
     ]
    },
    {
     "name": "stdout",
     "output_type": "stream",
     "text": [
      "/cnrm/pastel/USERS/lecestres/NO_SAVE/data/ocean_reanalysis_GREP/memb0/DJF/Ampli_Fields_global_DJF_CV_percent95_daymin5_ref1993-2016_memb0/Ampli_Fields_global_DJF_CV_percent95_daymin5_ref1993-2016_memb0_2012_2013.nc\n",
      "thread iyear :  1  done\n"
     ]
    },
    {
     "name": "stderr",
     "output_type": "stream",
     "text": [
      "[Parallel(n_jobs=2)]: Done   2 out of   2 | elapsed: 23.6min remaining:    0.0s\n",
      "[Parallel(n_jobs=2)]: Done   2 out of   2 | elapsed: 23.6min finished\n",
      "[Parallel(n_jobs=12)]: Done   6 out of  12 | elapsed: 23.6min remaining: 23.6min\n"
     ]
    },
    {
     "name": "stdout",
     "output_type": "stream",
     "text": [
      "/cnrm/pastel/USERS/lecestres/NO_SAVE/data/ocean_reanalysis_GREP/memb0/DJF/Ampli_Fields_global_DJF_CV_percent95_daymin5_ref1993-2016_memb0/Ampli_Fields_global_DJF_CV_percent95_daymin5_ref1993-2016_memb0_2006_2007.nc\n",
      "thread iyear :  1  done\n"
     ]
    },
    {
     "name": "stderr",
     "output_type": "stream",
     "text": [
      "[Parallel(n_jobs=2)]: Done   1 tasks      | elapsed: 24.7min\n"
     ]
    },
    {
     "name": "stdout",
     "output_type": "stream",
     "text": [
      "/cnrm/pastel/USERS/lecestres/NO_SAVE/data/ocean_reanalysis_GREP/memb0/DJF/Ampli_Fields_global_DJF_CV_percent95_daymin5_ref1993-2016_memb0/Ampli_Fields_global_DJF_CV_percent95_daymin5_ref1993-2016_memb0_2007_2008.nc\n",
      "thread iyear :  0  done\n"
     ]
    },
    {
     "name": "stderr",
     "output_type": "stream",
     "text": [
      "[Parallel(n_jobs=2)]: Done   1 tasks      | elapsed: 29.8min\n"
     ]
    },
    {
     "name": "stdout",
     "output_type": "stream",
     "text": [
      "/cnrm/pastel/USERS/lecestres/NO_SAVE/data/ocean_reanalysis_GREP/memb0/DJF/Ampli_Fields_global_DJF_CV_percent95_daymin5_ref1993-2016_memb0/Ampli_Fields_global_DJF_CV_percent95_daymin5_ref1993-2016_memb0_2008_2009.nc\n",
      "thread iyear :  1  done\n"
     ]
    },
    {
     "name": "stderr",
     "output_type": "stream",
     "text": [
      "[Parallel(n_jobs=2)]: Done   2 out of   2 | elapsed: 29.9min remaining:    0.0s\n",
      "[Parallel(n_jobs=2)]: Done   2 out of   2 | elapsed: 29.9min finished\n",
      "[Parallel(n_jobs=12)]: Done   7 out of  12 | elapsed: 29.9min remaining: 21.4min\n"
     ]
    },
    {
     "name": "stdout",
     "output_type": "stream",
     "text": [
      "/cnrm/pastel/USERS/lecestres/NO_SAVE/data/ocean_reanalysis_GREP/memb0/DJF/Ampli_Fields_global_DJF_CV_percent95_daymin5_ref1993-2016_memb0/Ampli_Fields_global_DJF_CV_percent95_daymin5_ref1993-2016_memb0_2005_2006.nc\n",
      "thread iyear :  0  done\n"
     ]
    },
    {
     "name": "stderr",
     "output_type": "stream",
     "text": [
      "[Parallel(n_jobs=2)]: Done   2 out of   2 | elapsed: 30.8min remaining:    0.0s\n",
      "[Parallel(n_jobs=2)]: Done   2 out of   2 | elapsed: 30.8min finished\n",
      "[Parallel(n_jobs=12)]: Done   8 out of  12 | elapsed: 30.8min remaining: 15.4min\n"
     ]
    },
    {
     "name": "stdout",
     "output_type": "stream",
     "text": [
      "/cnrm/pastel/USERS/lecestres/NO_SAVE/data/ocean_reanalysis_GREP/memb0/DJF/Ampli_Fields_global_DJF_CV_percent95_daymin5_ref1993-2016_memb0/Ampli_Fields_global_DJF_CV_percent95_daymin5_ref1993-2016_memb0_2013_2014.nc\n",
      "thread iyear :  0  done\n"
     ]
    },
    {
     "name": "stderr",
     "output_type": "stream",
     "text": [
      "[Parallel(n_jobs=2)]: Done   1 tasks      | elapsed: 36.2min\n"
     ]
    },
    {
     "name": "stdout",
     "output_type": "stream",
     "text": [
      "/cnrm/pastel/USERS/lecestres/NO_SAVE/data/ocean_reanalysis_GREP/memb0/DJF/Ampli_Fields_global_DJF_CV_percent95_daymin5_ref1993-2016_memb0/Ampli_Fields_global_DJF_CV_percent95_daymin5_ref1993-2016_memb0_2014_2015.nc\n",
      "thread iyear :  1  done\n"
     ]
    },
    {
     "name": "stderr",
     "output_type": "stream",
     "text": [
      "[Parallel(n_jobs=2)]: Done   2 out of   2 | elapsed: 36.7min remaining:    0.0s\n",
      "[Parallel(n_jobs=2)]: Done   2 out of   2 | elapsed: 36.7min finished\n",
      "[Parallel(n_jobs=12)]: Done   9 out of  12 | elapsed: 36.7min remaining: 12.2min\n"
     ]
    },
    {
     "name": "stdout",
     "output_type": "stream",
     "text": [
      "/cnrm/pastel/USERS/lecestres/NO_SAVE/data/ocean_reanalysis_GREP/memb0/DJF/Ampli_Fields_global_DJF_CV_percent95_daymin5_ref1993-2016_memb0/Ampli_Fields_global_DJF_CV_percent95_daymin5_ref1993-2016_memb0_1997_1998.nc\n",
      "thread iyear :  0  done\n"
     ]
    },
    {
     "name": "stderr",
     "output_type": "stream",
     "text": [
      "[Parallel(n_jobs=2)]: Done   2 out of   2 | elapsed: 42.8min remaining:    0.0s\n",
      "[Parallel(n_jobs=2)]: Done   2 out of   2 | elapsed: 42.8min finished\n",
      "[Parallel(n_jobs=12)]: Done  10 out of  12 | elapsed: 42.8min remaining:  8.6min\n"
     ]
    },
    {
     "name": "stdout",
     "output_type": "stream",
     "text": [
      "/cnrm/pastel/USERS/lecestres/NO_SAVE/data/ocean_reanalysis_GREP/memb0/DJF/Ampli_Fields_global_DJF_CV_percent95_daymin5_ref1993-2016_memb0/Ampli_Fields_global_DJF_CV_percent95_daymin5_ref1993-2016_memb0_2010_2011.nc\n",
      "thread iyear :  1  done\n"
     ]
    },
    {
     "name": "stderr",
     "output_type": "stream",
     "text": [
      "[Parallel(n_jobs=2)]: Done   1 tasks      | elapsed: 45.2min\n"
     ]
    },
    {
     "name": "stdout",
     "output_type": "stream",
     "text": [
      "/cnrm/pastel/USERS/lecestres/NO_SAVE/data/ocean_reanalysis_GREP/memb0/DJF/Ampli_Fields_global_DJF_CV_percent95_daymin5_ref1993-2016_memb0/Ampli_Fields_global_DJF_CV_percent95_daymin5_ref1993-2016_memb0_2009_2010.nc\n",
      "thread iyear :  0  done\n"
     ]
    },
    {
     "name": "stderr",
     "output_type": "stream",
     "text": [
      "[Parallel(n_jobs=2)]: Done   2 out of   2 | elapsed: 45.3min remaining:    0.0s\n",
      "[Parallel(n_jobs=2)]: Done   2 out of   2 | elapsed: 45.3min finished\n"
     ]
    },
    {
     "name": "stdout",
     "output_type": "stream",
     "text": [
      "/cnrm/pastel/USERS/lecestres/NO_SAVE/data/ocean_reanalysis_GREP/memb0/DJF/Ampli_Fields_global_DJF_CV_percent95_daymin5_ref1993-2016_memb0/Ampli_Fields_global_DJF_CV_percent95_daymin5_ref1993-2016_memb0_2016_2017.nc\n",
      "thread iyear :  1  done\n"
     ]
    },
    {
     "name": "stderr",
     "output_type": "stream",
     "text": [
      "[Parallel(n_jobs=2)]: Done   1 tasks      | elapsed: 102.3min\n"
     ]
    },
    {
     "name": "stdout",
     "output_type": "stream",
     "text": [
      "/cnrm/pastel/USERS/lecestres/NO_SAVE/data/ocean_reanalysis_GREP/memb0/DJF/Ampli_Fields_global_DJF_CV_percent95_daymin5_ref1993-2016_memb0/Ampli_Fields_global_DJF_CV_percent95_daymin5_ref1993-2016_memb0_2015_2016.nc\n",
      "thread iyear :  0  done\n"
     ]
    },
    {
     "name": "stderr",
     "output_type": "stream",
     "text": [
      "[Parallel(n_jobs=2)]: Done   2 out of   2 | elapsed: 104.0min remaining:    0.0s\n",
      "[Parallel(n_jobs=2)]: Done   2 out of   2 | elapsed: 104.0min finished\n"
     ]
    },
    {
     "name": "stdout",
     "output_type": "stream",
     "text": [
      "caught signal <cdo.Cdo object at 0x7f324b91a650> 15 <frame at 0x7f3248614250, file '/usr/lib64/python3.7/multiprocessing/popen_fork.py', line 76, code _launch>\n",
      "caught signal <cdo.Cdo object at 0x7f324b91a650> 15 <frame at 0x7f32483e1b90, file '/usr/lib64/python3.7/multiprocessing/util.py', line 412, code _flush_std_streams>\n"
     ]
    },
    {
     "name": "stderr",
     "output_type": "stream",
     "text": [
      "[Parallel(n_jobs=12)]: Done  12 out of  12 | elapsed: 104.0min remaining:    0.0s\n",
      "[Parallel(n_jobs=12)]: Done  12 out of  12 | elapsed: 104.0min finished\n"
     ]
    },
    {
     "name": "stdout",
     "output_type": "stream",
     "text": [
      "Total time for detection :  6240.9176506996155\n"
     ]
    }
   ],
   "source": [
    "for (j, jmemb) in enumerate(range(first_memb, last_memb)):\n",
    "    memb_str = 'memb'+str(jmemb)\n",
    "    parameters_str = reg_name+\"_\"+season+\"_\"+cv_str+'_percent%i'%(percent_thresh)+'_daymin%i'%(duration_min)+\"_ref%i-%i_\"%(start_year, end_year)+memb_str\n",
    "    varname = 'subHW_'+parameters_str\n",
    "    pathHWMI = '/cnrm/pastel/USERS/lecestres/NO_SAVE/data/'+expname+'/'+memb_str+'/'+season+'/'+varname+'/'\n",
    "    files = glob(pathHWMI + '*.nc')\n",
    "    files.sort()\n",
    "    allsubHWslst = []    \n",
    "    def parallel_years(k_start_year, k_end_year):\n",
    "        year_range = k_end_year-k_start_year\n",
    "        k_min = k_start_year-start_year\n",
    "        k_max = k_min+year_range\n",
    "        for file in files[k_min:k_max]:\n",
    "            varf=netCDF4.Dataset(file)\n",
    "            varf.variables[varname]\n",
    "            vararray, lats_reg, lons_reg = extract_array(varf, varname, ndayseas, np.array(lons_bnds), np.array(lats_bnds),  start_time = 0, level=0)\n",
    "            subHWs_iyeararray = vararray[:, np.newaxis, :, :]\n",
    "            maskobs = subHWs_iyeararray.mask\n",
    "            allsubHWslst.append(subHWs_iyeararray)\n",
    "        allsubHWs_array = np.ma.array(allsubHWslst)\n",
    "        #print('maskobs : ', maskobs)\n",
    "        args = (expname, reg_name, memb_str, season, parameters_str, k_start_year, lats_reg, lons_reg)\n",
    "        print(allsubHWs_array.shape)\n",
    "        calc_HW_MY(allsubHWs_array, maskobs, lats_reg, lons_reg, args, allowdist=1)\n",
    "        \n",
    "    CPUs = os.cpu_count()\n",
    "    years_per_CPU = int(np.ceil(nyear/CPUs))\n",
    "    k_list = [(start_year + i*(years_per_CPU), min(start_year + (i+1)*years_per_CPU, end_year+1)) for i in range(CPUs)]\n",
    "    \n",
    "    start_time = time.time()\n",
    "    Parallel(n_jobs=min(CPUs,nyear), backend='multiprocessing', verbose = 20)(delayed(parallel_years)(k_start_year, k_end_year) for (k_start_year, k_end_year) in k_list)\n",
    "    print('Total time for detection : ', time.time() - start_time)"
   ]
  },
  {
   "cell_type": "code",
   "execution_count": null,
   "metadata": {},
   "outputs": [],
   "source": []
  }
 ],
 "metadata": {
  "kernelspec": {
   "display_name": "Python 3",
   "language": "python",
   "name": "python3"
  },
  "language_info": {
   "codemirror_mode": {
    "name": "ipython",
    "version": 3
   },
   "file_extension": ".py",
   "mimetype": "text/x-python",
   "name": "python",
   "nbconvert_exporter": "python",
   "pygments_lexer": "ipython3",
   "version": "3.7.6"
  }
 },
 "nbformat": 4,
 "nbformat_minor": 2
}
